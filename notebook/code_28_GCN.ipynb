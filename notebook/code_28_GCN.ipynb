{
 "cells": [
  {
   "cell_type": "markdown",
   "source": [
    "cora数据集：https://linqs-data.soe.ucsc.edu/public/lbc/\n",
    "ranger优化器：https://github.com/lessw2020/Ranger-Deep-Learning-Optimizer"
   ],
   "metadata": {
    "collapsed": false,
    "pycharm": {
     "name": "#%% md\n"
    }
   }
  },
  {
   "cell_type": "code",
   "execution_count": 37,
   "outputs": [],
   "source": [
    "# 错误\n",
    "# !pip install ranger\n",
    "# !pip uninstall ranger"
   ],
   "metadata": {
    "collapsed": false,
    "pycharm": {
     "name": "#%%\n"
    }
   }
  },
  {
   "cell_type": "code",
   "execution_count": 38,
   "outputs": [],
   "source": [
    "from pathlib import Path  # 提升路径的兼容性\n",
    "# 引入矩阵运算相关库\n",
    "import numpy as np\n",
    "import pandas as pd\n",
    "from scipy.sparse import coo_matrix, csr_matrix, diags, eye\n",
    "\n",
    "# 引入深度学习框架库\n",
    "import torch\n",
    "from torch import nn\n",
    "import torch.nn.functional as F\n",
    "# 引入绘图库\n",
    "import matplotlib.pyplot as plt\n",
    "\n",
    "from ranger import *    # 复制ranger文件夹到../\n",
    "from tqdm import tqdm   # pip install tqdm"
   ],
   "metadata": {
    "collapsed": false,
    "pycharm": {
     "name": "#%%\n"
    }
   }
  },
  {
   "cell_type": "code",
   "execution_count": 57,
   "outputs": [
    {
     "name": "stdout",
     "output_type": "stream",
     "text": [
      "normalize前：\n",
      "[[1. 2.]\n",
      " [2. 3.]]\n",
      "normalize后：\n",
      "[[0.33333333 0.66666667]\n",
      " [0.4        0.6       ]]\n"
     ]
    }
   ],
   "source": [
    "\n",
    "def normalize(mx):  # 定义函数，对矩阵数据进行归一化\n",
    "    '''\n",
    "        Row-normalize sparse matrix\n",
    "        所有元素除以所在行的行和\n",
    "    '''\n",
    "    rowsum = np.array(mx.sum(1))  # 每一篇论文的字数\n",
    "    r_inv = (rowsum ** -1).flatten()  # 取总字数的倒数\n",
    "    r_inv[np.isinf(r_inv)] = 0.  # 将Nan值设为0\n",
    "    r_mat_inv = diags(r_inv)  # 将总字数的倒数做成对角矩阵\n",
    "    mx = r_mat_inv.dot(mx)  # 左乘一个矩阵，相当于每个元素除以总数\n",
    "    return mx\n",
    "\n",
    "\n",
    "def test_normalize():\n",
    "    mx = np.array([[1,2],[2,3]], dtype=float)\n",
    "    print('normalize前：')\n",
    "    print(mx)\n",
    "    print('normalize后：')\n",
    "    print(normalize(mx))\n",
    "\n",
    "\n",
    "def mish(x):  # Mish激活函数\n",
    "    return x * (torch.tanh(F.softplus(x)))\n",
    "\n",
    "\n",
    "def accuracy(output, y):\n",
    "    return (output.argmax(1) == y).type(torch.float32).mean().item()\n",
    "\n",
    "\n",
    "def train():\n",
    "    \"\"\"\n",
    "        train\n",
    "        return: loss, acc\n",
    "    \"\"\"\n",
    "    model.train()\n",
    "    optimizer.zero_grad()\n",
    "    # 将全部数据输入模型\n",
    "    # 训练的时候看到所有 features ？\n",
    "    # 改成features[:n_train]会报错，mat1 and mat2 shapes cannot be multiplied (adj:2708x2708 and features[:n_train]:200x16)\n",
    "    # 而且修改adj无法解决这个问题，因为可能导致样本节点之间一条边都没有\n",
    "    output = model(features, adj)\n",
    "    # 只用训练数据计算损失\n",
    "    # 但只算idx_train的损失？\n",
    "    loss = F.cross_entropy(output[idx_train], labels[idx_train])\n",
    "    acc = accuracy(output[idx_train], labels[idx_train])\n",
    "    loss.backward()\n",
    "    optimizer.step()\n",
    "    return loss.item(), acc\n",
    "\n",
    "\n",
    "def evaluate(idx):\n",
    "    \"\"\"\n",
    "        idx: 数据集索引\n",
    "    \"\"\"\n",
    "    model.eval()\n",
    "    output = model(features, adj)\n",
    "    loss = F.cross_entropy(output[idx], labels[idx]).item()\n",
    "    return loss, accuracy(output[idx], labels[idx])\n",
    "\n",
    "def unit_test():\n",
    "    test_normalize()\n",
    "\n",
    "unit_test()"
   ],
   "metadata": {
    "collapsed": false,
    "pycharm": {
     "name": "#%%\n"
    }
   }
  },
  {
   "cell_type": "code",
   "execution_count": 55,
   "outputs": [],
   "source": [
    "# 图卷积类\n",
    "class GraphConvolution(nn.Module):\n",
    "    def __init__(self, f_in, f_out, use_bias=True, activation=mish):\n",
    "        super().__init__()\n",
    "        self.f_in = f_in\n",
    "        self.f_out = f_out\n",
    "        self.use_bias = use_bias\n",
    "        self.activation = activation\n",
    "\n",
    "        self.weight = nn.Parameter(torch.FloatTensor(f_in, f_out))\n",
    "        self.bias = nn.Parameter(torch.FloatTensor(f_out)) if use_bias else None\n",
    "\n",
    "        self.initialize_weights()\n",
    "\n",
    "    def initialize_weights(self):\n",
    "        if self.activation is None:\n",
    "            nn.init.xavier_uniform_(self.weight)\n",
    "        else:\n",
    "            nn.init.kaiming_uniform_(self.weight, nonlinearity='leaky_relu')\n",
    "        if self.use_bias:\n",
    "            nn.init.zeros_(self.bias)\n",
    "\n",
    "    def forward(self, input, adj):\n",
    "        # (batch_size, f_out) = (batch_size, f_in) @ (f_in, f_out)\n",
    "        support = torch.mm(input, self.weight)\n",
    "        # (batch_size, f_out) = (batch_size, batch_size) @ (batch_size, f_out)\n",
    "        output = torch.mm(adj, support)\n",
    "        if self.use_bias:\n",
    "            output.add_(self.bias)\n",
    "\n",
    "        if self.activation is not None:\n",
    "            output = self.activation(output)\n",
    "        return output\n",
    "\n",
    "\n",
    "class GCN(nn.Module):\n",
    "    def __init__(self, f_in, n_classes, hidden=[16], dropout_p=0.5):\n",
    "        super().__init__()\n",
    "        layers = []\n",
    "        for f_in, f_out in zip([f_in] + hidden[:-1], hidden):\n",
    "            layers += [GraphConvolution(f_in, f_out)]\n",
    "\n",
    "        self.layers = nn.Sequential(*layers)\n",
    "        self.dropout_p = dropout_p\n",
    "\n",
    "        self.out_layer = GraphConvolution(f_out, n_classes, activation=None)\n",
    "\n",
    "    def forward(self, x, adj):\n",
    "        # 批量梯度下降，不是小批量\n",
    "        assert (np.shape(x)[0], np.shape(x)[1], np.shape(adj)[0], np.shape(adj)[1]) == (2708, 1433, 2708, 2708)\n",
    "        for layer in self.layers:\n",
    "            x = layer(x, adj)\n",
    "        # 函数方式调用dropout必须用training标志\n",
    "        F.dropout(x, self.dropout_p, training=self.training, inplace=True)\n",
    "        return self.out_layer(x, adj)"
   ],
   "metadata": {
    "collapsed": false,
    "pycharm": {
     "name": "#%%\n"
    }
   }
  },
  {
   "cell_type": "code",
   "execution_count": 41,
   "outputs": [
    {
     "name": "stdout",
     "output_type": "stream",
     "text": [
      "cpu\n",
      "..\\data\\cora\n"
     ]
    },
    {
     "name": "stderr",
     "output_type": "stream",
     "text": [
      "C:\\Users\\11420\\AppData\\Local\\Temp\\ipykernel_19140\\427485935.py:10: DeprecationWarning: `np.str` is a deprecated alias for the builtin `str`. To silence this warning, use `str` by itself. Doing this will not modify any behavior and is safe. If you specifically wanted the numpy scalar type, use `np.str_` here.\n",
      "Deprecated in NumPy 1.20; for more details and guidance: https://numpy.org/devdocs/release/1.20.0-notes.html#deprecations\n",
      "  paper_features_label = np.genfromtxt(path / 'cora.content', dtype=np.str)\n"
     ]
    },
    {
     "name": "stdout",
     "output_type": "stream",
     "text": [
      "[['31336' '0' '0' ... '0' '0' 'Neural_Networks']\n",
      " ['1061127' '0' '0' ... '0' '0' 'Rule_Learning']\n",
      " ['1106406' '0' '0' ... '0' '0' 'Reinforcement_Learning']] (2708, 1435)\n",
      "[  31336 1061127 1106406] (2708,)\n",
      "(2708, 1433)\n",
      "31336   (0, 0)\t0.0\n",
      "  (0, 1)\t0.0\n",
      "  (0, 2)\t0.0\n",
      "  (0, 3)\t0.0\n",
      "  (0, 4)\t0.0\n",
      "  (0, 5)\t0.0\n",
      "  (0, 6)\t0.0\n",
      "  (0, 7)\t0.0\n",
      "  (0, 8)\t0.0\n",
      "  (0, 9)\t0.0\n",
      "  (0, 10)\t0.0\n",
      "  (0, 11)\t0.0\n",
      "  (0, 12)\t0.0\n",
      "  (0, 13)\t0.0\n",
      "  (0, 14)\t0.0\n",
      "  (0, 15)\t0.0\n",
      "  (0, 16)\t0.0\n",
      "  (0, 17)\t0.0\n",
      "  (0, 18)\t0.0\n",
      "  (0, 19)\t0.0\n",
      "  (0, 20)\t0.0\n",
      "  (0, 21)\t0.0\n",
      "  (0, 22)\t0.0\n",
      "  (0, 23)\t0.0\n",
      "  (0, 24)\t0.0\n",
      "  :\t:\n",
      "  (0, 1408)\t0.0\n",
      "  (0, 1409)\t0.0\n",
      "  (0, 1410)\t0.0\n",
      "  (0, 1411)\t0.0\n",
      "  (0, 1412)\t0.0\n",
      "  (0, 1413)\t0.0\n",
      "  (0, 1414)\t0.0\n",
      "  (0, 1415)\t0.0\n",
      "  (0, 1416)\t0.0\n",
      "  (0, 1417)\t0.0\n",
      "  (0, 1418)\t0.0\n",
      "  (0, 1419)\t0.0\n",
      "  (0, 1420)\t0.0\n",
      "  (0, 1421)\t0.0\n",
      "  (0, 1422)\t0.0\n",
      "  (0, 1423)\t0.0\n",
      "  (0, 1424)\t0.0\n",
      "  (0, 1425)\t0.0\n",
      "  (0, 1426)\t1.0\n",
      "  (0, 1427)\t0.0\n",
      "  (0, 1428)\t0.0\n",
      "  (0, 1429)\t0.0\n",
      "  (0, 1430)\t0.0\n",
      "  (0, 1431)\t0.0\n",
      "  (0, 1432)\t0.0\n"
     ]
    }
   ],
   "source": [
    "# 输出运算资源请况\n",
    "device = torch.device('cuda') if torch.cuda.is_available() else torch.device('cpu')\n",
    "print(device)\n",
    "\n",
    "# 输出样本路径\n",
    "path = Path('../data/cora')\n",
    "print(path)\n",
    "\n",
    "# 读取论文内容数据，并将其转化为数组\n",
    "paper_features_label = np.genfromtxt(path / 'cora.content', dtype=np.str)\n",
    "print(paper_features_label[:3], np.shape(paper_features_label))\n",
    "\n",
    "# 取出数据的第一列：论文的ID\n",
    "papers = paper_features_label[:, 0].astype(np.int32)\n",
    "# [  31336 1061127 1106406] (2708,)\n",
    "print(papers[:3], np.shape(papers))\n",
    "# 为论文重新编号，{31336: 0, 1061127: 1,……\n",
    "paper2idx = {k: v for v, k in enumerate(papers)}\n",
    "\n",
    "# 将数据中间部分的字标签取出，转化成矩阵\n",
    "features = csr_matrix(paper_features_label[:, 1:-1], dtype=np.float32)\n",
    "# (2708, 1433)\n",
    "print(np.shape(features))\n",
    "print(papers[0], features[0])\n"
   ],
   "metadata": {
    "collapsed": false,
    "pycharm": {
     "name": "#%%\n"
    }
   }
  },
  {
   "cell_type": "code",
   "execution_count": 42,
   "outputs": [
    {
     "name": "stdout",
     "output_type": "stream",
     "text": [
      "{'Case_Based': 0, 'Genetic_Algorithms': 1, 'Neural_Networks': 2, 'Probabilistic_Methods': 3, 'Reinforcement_Learning': 4, 'Rule_Learning': 5, 'Theory': 6} [2, 5, 4, 4, 3]\n",
      "[[    35   1033]\n",
      " [    35 103482]] (5429, 2)\n",
      "[[163 402]\n",
      " [163 659]] (5429, 2)\n"
     ]
    }
   ],
   "source": [
    "# 将最后一项的论文分类属性取出，并转化为分类索引\n",
    "labels = paper_features_label[:, -1]\n",
    "lbl2idx = {k: v for v, k in enumerate(sorted(np.unique(labels)))}\n",
    "labels = [lbl2idx[e] for e in labels]\n",
    "print(lbl2idx, labels[:5])\n",
    "\n",
    "# 读取论文引用关系数据，并将其转化为数组\n",
    "edges = np.genfromtxt(path / 'cora.cites', dtype=np.int32)\n",
    "# [[    35   1033]\n",
    "#  [    35 103482]] (5429, 2)\n",
    "print(edges[:2], np.shape(edges))\n",
    "\n",
    "# 转化为新编号节点间的关系\n",
    "# [[163 402]\n",
    "#  [163 659]] (5429, 2)\n",
    "assert paper2idx[35] == 163 and paper2idx[1033] == 402 and paper2idx[103482] == 659\n",
    "edges = np.asarray([paper2idx[e] for e in edges.flatten()], np.int32).reshape(edges.shape)\n",
    "print(edges[:2], edges.shape)\n"
   ],
   "metadata": {
    "collapsed": false,
    "pycharm": {
     "name": "#%%\n"
    }
   }
  },
  {
   "cell_type": "code",
   "execution_count": 43,
   "outputs": [],
   "source": [
    "# 计算有向图邻接矩阵（Adjacency matrix） ，行列都为论文个数\n",
    "adj = coo_matrix((np.ones(edges.shape[0]), (edges[:, 0], edges[:, 1])),\n",
    "                 shape=(len(labels), len(labels)), dtype=np.float32)\n",
    "\n",
    "# Symmetric adjacency matrix\n",
    "# adj = adj + adj.T.multiply(adj.T > adj) - adj.multiply(adj.T > adj)\n",
    "# 生成无向图对称矩阵(有向图转无向图，保留长边为无向边)\n",
    "# multiply: Point(Element)-wise multiplication\n",
    "adj_long = adj.multiply(adj.T < adj)\n",
    "adj = adj_long + adj_long.T\n",
    "\n",
    "\n",
    "# 对 features矩阵进行归一化（每行的总和为1）\n",
    "features = normalize(features)\n",
    "\n",
    "# 对邻接矩阵对角线添加1，将其变为自循环图。同时再对其进行归一化\n",
    "adj = normalize(adj + eye(adj.shape[0]))\n",
    "################################################\n",
    "\n",
    "\n",
    "# Data as tensors\n",
    "adj = torch.FloatTensor(adj.todense())  # 节点间的关系\n",
    "features = torch.FloatTensor(features.todense())  # 节点自身的特征\n",
    "labels = torch.LongTensor(labels)  # 每个节点的分类标签\n",
    "\n",
    "# 划分数据集\n",
    "n_train = 200\n",
    "n_val = 300\n",
    "n_test = len(features) - n_train - n_val\n",
    "np.random.seed(34)\n",
    "idxs = np.random.permutation(len(features))  # 将原有索引打乱顺序\n",
    "# 计算每个数据集的索引\n",
    "idx_train = torch.LongTensor(idxs[:n_train])\n",
    "idx_val = torch.LongTensor(idxs[n_train:n_train + n_val])\n",
    "idx_test = torch.LongTensor(idxs[n_train + n_val:])\n",
    "\n",
    "# 分配运算资源\n",
    "adj = adj.to(device)\n",
    "features = features.to(device)\n",
    "labels = labels.to(device)\n",
    "idx_train = idx_train.to(device)\n",
    "idx_val = idx_val.to(device)\n",
    "idx_test = idx_test.to(device)\n"
   ],
   "metadata": {
    "collapsed": false,
    "pycharm": {
     "name": "#%%\n"
    }
   }
  },
  {
   "cell_type": "code",
   "execution_count": 58,
   "outputs": [
    {
     "name": "stdout",
     "output_type": "stream",
     "text": [
      "7 1433\n",
      "Ranger optimizer loaded. \n",
      "Gradient Centralization usage = True\n",
      "GC applied to both conv and fc layers\n"
     ]
    },
    {
     "name": "stderr",
     "output_type": "stream",
     "text": [
      "  0%|          | 1/1000 [00:00<03:13,  5.16it/s]"
     ]
    },
    {
     "name": "stdout",
     "output_type": "stream",
     "text": [
      "     1/1000: train_loss=1.9468, train_acc=0.2000, val_loss=1.9471, val_acc=0.1467\n"
     ]
    },
    {
     "name": "stderr",
     "output_type": "stream",
     "text": [
      "  6%|▌         | 55/1000 [00:02<00:31, 30.04it/s]"
     ]
    },
    {
     "name": "stdout",
     "output_type": "stream",
     "text": [
      "    50/1000: train_loss=1.9402, train_acc=0.1950, val_loss=1.9413, val_acc=0.1867\n"
     ]
    },
    {
     "name": "stderr",
     "output_type": "stream",
     "text": [
      " 11%|█         | 106/1000 [00:03<00:29, 30.26it/s]"
     ]
    },
    {
     "name": "stdout",
     "output_type": "stream",
     "text": [
      "   100/1000: train_loss=1.9276, train_acc=0.2200, val_loss=1.9300, val_acc=0.1867\n"
     ]
    },
    {
     "name": "stderr",
     "output_type": "stream",
     "text": [
      " 16%|█▌        | 155/1000 [00:05<00:29, 28.47it/s]"
     ]
    },
    {
     "name": "stdout",
     "output_type": "stream",
     "text": [
      "   150/1000: train_loss=1.9128, train_acc=0.2150, val_loss=1.9168, val_acc=0.1567\n"
     ]
    },
    {
     "name": "stderr",
     "output_type": "stream",
     "text": [
      " 20%|██        | 204/1000 [00:07<00:26, 29.69it/s]"
     ]
    },
    {
     "name": "stdout",
     "output_type": "stream",
     "text": [
      "   200/1000: train_loss=1.8929, train_acc=0.2050, val_loss=1.8990, val_acc=0.1500\n"
     ]
    },
    {
     "name": "stderr",
     "output_type": "stream",
     "text": [
      " 25%|██▌       | 253/1000 [00:08<00:25, 29.74it/s]"
     ]
    },
    {
     "name": "stdout",
     "output_type": "stream",
     "text": [
      "   250/1000: train_loss=1.8701, train_acc=0.2050, val_loss=1.8786, val_acc=0.1533\n"
     ]
    },
    {
     "name": "stderr",
     "output_type": "stream",
     "text": [
      " 30%|███       | 303/1000 [00:10<00:22, 30.46it/s]"
     ]
    },
    {
     "name": "stdout",
     "output_type": "stream",
     "text": [
      "   300/1000: train_loss=1.8483, train_acc=0.2300, val_loss=1.8592, val_acc=0.1833\n"
     ]
    },
    {
     "name": "stderr",
     "output_type": "stream",
     "text": [
      " 35%|███▌      | 354/1000 [00:11<00:21, 30.65it/s]"
     ]
    },
    {
     "name": "stdout",
     "output_type": "stream",
     "text": [
      "   350/1000: train_loss=1.8219, train_acc=0.3600, val_loss=1.8357, val_acc=0.3833\n"
     ]
    },
    {
     "name": "stderr",
     "output_type": "stream",
     "text": [
      " 40%|████      | 404/1000 [00:13<00:22, 26.11it/s]"
     ]
    },
    {
     "name": "stdout",
     "output_type": "stream",
     "text": [
      "   400/1000: train_loss=1.7897, train_acc=0.3700, val_loss=1.8077, val_acc=0.4233\n"
     ]
    },
    {
     "name": "stderr",
     "output_type": "stream",
     "text": [
      " 45%|████▌     | 454/1000 [00:15<00:17, 31.16it/s]"
     ]
    },
    {
     "name": "stdout",
     "output_type": "stream",
     "text": [
      "   450/1000: train_loss=1.7513, train_acc=0.3750, val_loss=1.7750, val_acc=0.4267\n"
     ]
    },
    {
     "name": "stderr",
     "output_type": "stream",
     "text": [
      " 51%|█████     | 506/1000 [00:17<00:16, 29.10it/s]"
     ]
    },
    {
     "name": "stdout",
     "output_type": "stream",
     "text": [
      "   500/1000: train_loss=1.6892, train_acc=0.3900, val_loss=1.7255, val_acc=0.4367\n"
     ]
    },
    {
     "name": "stderr",
     "output_type": "stream",
     "text": [
      " 56%|█████▌    | 555/1000 [00:18<00:14, 30.96it/s]"
     ]
    },
    {
     "name": "stdout",
     "output_type": "stream",
     "text": [
      "   550/1000: train_loss=1.6016, train_acc=0.4000, val_loss=1.6571, val_acc=0.4433\n"
     ]
    },
    {
     "name": "stderr",
     "output_type": "stream",
     "text": [
      " 60%|██████    | 603/1000 [00:20<00:13, 29.18it/s]"
     ]
    },
    {
     "name": "stdout",
     "output_type": "stream",
     "text": [
      "   600/1000: train_loss=1.5043, train_acc=0.4150, val_loss=1.5803, val_acc=0.4633\n"
     ]
    },
    {
     "name": "stderr",
     "output_type": "stream",
     "text": [
      " 65%|██████▌   | 653/1000 [00:21<00:12, 28.51it/s]"
     ]
    },
    {
     "name": "stdout",
     "output_type": "stream",
     "text": [
      "   650/1000: train_loss=1.3841, train_acc=0.4900, val_loss=1.4849, val_acc=0.5400\n"
     ]
    },
    {
     "name": "stderr",
     "output_type": "stream",
     "text": [
      " 70%|███████   | 703/1000 [00:23<00:10, 28.82it/s]"
     ]
    },
    {
     "name": "stdout",
     "output_type": "stream",
     "text": [
      "   700/1000: train_loss=1.2566, train_acc=0.5950, val_loss=1.3804, val_acc=0.5933\n"
     ]
    },
    {
     "name": "stderr",
     "output_type": "stream",
     "text": [
      " 76%|███████▌  | 755/1000 [00:25<00:07, 31.21it/s]"
     ]
    },
    {
     "name": "stdout",
     "output_type": "stream",
     "text": [
      "   750/1000: train_loss=1.1326, train_acc=0.7150, val_loss=1.2785, val_acc=0.6300\n"
     ]
    },
    {
     "name": "stderr",
     "output_type": "stream",
     "text": [
      " 80%|████████  | 803/1000 [00:26<00:06, 30.73it/s]"
     ]
    },
    {
     "name": "stdout",
     "output_type": "stream",
     "text": [
      "   800/1000: train_loss=0.9800, train_acc=0.8300, val_loss=1.1573, val_acc=0.7333\n"
     ]
    },
    {
     "name": "stderr",
     "output_type": "stream",
     "text": [
      " 86%|████████▌ | 855/1000 [00:28<00:04, 29.62it/s]"
     ]
    },
    {
     "name": "stdout",
     "output_type": "stream",
     "text": [
      "   850/1000: train_loss=0.8255, train_acc=0.8950, val_loss=1.0390, val_acc=0.7500\n"
     ]
    },
    {
     "name": "stderr",
     "output_type": "stream",
     "text": [
      " 90%|█████████ | 904/1000 [00:30<00:03, 30.60it/s]"
     ]
    },
    {
     "name": "stdout",
     "output_type": "stream",
     "text": [
      "   900/1000: train_loss=0.6988, train_acc=0.9100, val_loss=0.9557, val_acc=0.7567\n"
     ]
    },
    {
     "name": "stderr",
     "output_type": "stream",
     "text": [
      " 96%|█████████▌| 956/1000 [00:31<00:01, 31.18it/s]"
     ]
    },
    {
     "name": "stdout",
     "output_type": "stream",
     "text": [
      "   950/1000: train_loss=0.5738, train_acc=0.9200, val_loss=0.8753, val_acc=0.7700\n"
     ]
    },
    {
     "name": "stderr",
     "output_type": "stream",
     "text": [
      "100%|██████████| 1000/1000 [00:33<00:00, 30.13it/s]\n"
     ]
    },
    {
     "name": "stdout",
     "output_type": "stream",
     "text": [
      "  1000/1000: train_loss=0.4690, train_acc=0.9250, val_loss=0.8230, val_acc=0.7733\n",
      "Train     : loss=0.4690, accuracy=0.9250\n",
      "Validation: loss=0.8230, accuracy=0.7733\n",
      "Test      : loss=0.9556, accuracy=0.7355\n",
      "                     Real                    Pred Right\n",
      "0         Neural_Networks         Neural_Networks     √\n",
      "1         Neural_Networks   Probabilistic_Methods     ×\n",
      "2         Neural_Networks         Neural_Networks     √\n",
      "3         Neural_Networks         Neural_Networks     √\n",
      "4         Neural_Networks         Neural_Networks     √\n",
      "5           Rule_Learning                  Theory     ×\n",
      "6  Reinforcement_Learning  Reinforcement_Learning     √\n",
      "7   Probabilistic_Methods   Probabilistic_Methods     √\n",
      "8         Neural_Networks   Probabilistic_Methods     ×\n",
      "9         Neural_Networks         Neural_Networks     √\n"
     ]
    },
    {
     "data": {
      "text/plain": "<Figure size 1500x500 with 2 Axes>",
      "image/png": "[encoded data removed]"
     },
     "metadata": {},
     "output_type": "display_data"
    }
   ],
   "source": [
    "\n",
    "n_labels = labels.max().item() + 1  # 分类个数 7\n",
    "# 每个论文节点的关键词属性个数，样本特征的维度\n",
    "n_features = features.shape[1]  # 节点个数 1433\n",
    "print(n_labels, n_features)\n",
    "model = GCN(n_features, n_labels, hidden=[16, 32, 16]).to(device)\n",
    "optimizer = Ranger(model.parameters())\n",
    "# 训练模型\n",
    "epochs = 1000  # 400#500\n",
    "print_steps = 50\n",
    "train_loss, train_acc = [], []\n",
    "val_loss, val_acc = [], []\n",
    "for i in tqdm(range(epochs)):\n",
    "    tl, ta = train()\n",
    "    train_loss += [tl]\n",
    "    train_acc += [ta]\n",
    "    if (i + 1) % print_steps == 0 or i == 0:\n",
    "        tl, ta = evaluate(idx_train)\n",
    "        vl, va = evaluate(idx_val)\n",
    "        val_loss += [vl]\n",
    "        val_acc += [va]\n",
    "        print(f'{i + 1:6d}/{epochs}: train_loss={tl:.4f}, train_acc={ta:.4f}' +\n",
    "              f', val_loss={vl:.4f}, val_acc={va:.4f}')\n",
    "\n",
    "# 输出最终结果\n",
    "final_train, final_val, final_test = evaluate(idx_train), evaluate(idx_val), evaluate(idx_test)\n",
    "print(f'Train     : loss={final_train[0]:.4f}, accuracy={final_train[1]:.4f}')\n",
    "print(f'Validation: loss={final_val[0]:.4f}, accuracy={final_val[1]:.4f}')\n",
    "print(f'Test      : loss={final_test[0]:.4f}, accuracy={final_test[1]:.4f}')\n",
    "\n",
    "# 可视化训练过程\n",
    "fig, axes = plt.subplots(1, 2, figsize=(15, 5))\n",
    "ax = axes[0]\n",
    "axes[0].plot(train_loss[::print_steps] + [train_loss[-1]], label='Train')\n",
    "axes[0].plot(val_loss, label='Validation')\n",
    "axes[1].plot(train_acc[::print_steps] + [train_acc[-1]], label='Train')\n",
    "axes[1].plot(val_acc, label='Validation')\n",
    "for ax, t in zip(axes, ['Loss', 'Accuracy']): ax.legend(), ax.set_title(t, size=15)\n",
    "\n",
    "# 输出模型预测结果\n",
    "output = model(features, adj)\n",
    "\n",
    "samples = 10\n",
    "idx_sample = idx_test[torch.randperm(len(idx_test))[:samples]]\n",
    "\n",
    "idx2lbl = {v: k for k, v in lbl2idx.items()}\n",
    "real_label = [idx2lbl[e] for e in labels[idx_sample].tolist()]\n",
    "pred_label = [idx2lbl[e] for e in output[idx_sample].argmax(1).tolist()]\n",
    "df = pd.DataFrame({'Real': real_label,\n",
    "                   'Pred': pred_label,\n",
    "                   'Right': ['√' if real_label[i] == pred_label[i] else '×' for i in range(samples)]})\n",
    "print(df)\n"
   ],
   "metadata": {
    "collapsed": false,
    "pycharm": {
     "name": "#%%\n"
    }
   }
  },
  {
   "cell_type": "code",
   "execution_count": 44,
   "outputs": [],
   "source": [],
   "metadata": {
    "collapsed": false,
    "pycharm": {
     "name": "#%%\n"
    }
   }
  }
 ],
 "metadata": {
  "kernelspec": {
   "display_name": "Python 3",
   "language": "python",
   "name": "python3"
  },
  "language_info": {
   "codemirror_mode": {
    "name": "ipython",
    "version": 2
   },
   "file_extension": ".py",
   "mimetype": "text/x-python",
   "name": "python",
   "nbconvert_exporter": "python",
   "pygments_lexer": "ipython2",
   "version": "2.7.6"
  }
 },
 "nbformat": 4,
 "nbformat_minor": 0
}