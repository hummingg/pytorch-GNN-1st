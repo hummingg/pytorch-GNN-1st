{
 "cells": [
  {
   "cell_type": "code",
   "execution_count": 15,
   "metadata": {
    "collapsed": true,
    "pycharm": {
     "name": "#%%\n"
    }
   },
   "outputs": [],
   "source": [
    "# -*- coding: utf-8 -*-\n",
    "\"\"\"\n",
    "@author: 代码医生工作室\n",
    "@公众号：xiangyuejiqiren   （内有更多优秀文章及学习资料）\n",
    "@来源: <PyTorch深度学习和图神经网络（卷 1）——基础知识>配套代码\n",
    "@配套代码技术支持：bbs.aianaconda.com\n",
    "Created on Sat Oct 19 20:03:44 2019\n",
    "\"\"\"\n",
    "\n",
    "from pathlib import Path  # 提升路径的兼容性\n",
    "# 引入矩阵运算相关库\n",
    "import numpy as np\n",
    "import pandas as pd\n",
    "from scipy.sparse import coo_matrix, csr_matrix, diags, eye\n",
    "\n",
    "# 引入深度学习框架库\n",
    "import torch\n",
    "from torch import nn\n",
    "import torch.nn.functional as F\n",
    "# 引入绘图库\n",
    "import matplotlib.pyplot as plt\n",
    "\n",
    "# conda install pandas\n",
    "\n",
    "\n",
    "from ranger import *\n",
    "\n",
    "from tqdm import tqdm  # pip install tqdm\n"
   ]
  },
  {
   "cell_type": "code",
   "execution_count": 16,
   "outputs": [
    {
     "name": "stdout",
     "output_type": "stream",
     "text": [
      "cpu\n",
      "..\\data\\cora\n"
     ]
    },
    {
     "name": "stderr",
     "output_type": "stream",
     "text": [
      "C:\\Users\\11420\\AppData\\Local\\Temp\\ipykernel_10172\\4242117897.py:10: DeprecationWarning: `np.str` is a deprecated alias for the builtin `str`. To silence this warning, use `str` by itself. Doing this will not modify any behavior and is safe. If you specifically wanted the numpy scalar type, use `np.str_` here.\n",
      "Deprecated in NumPy 1.20; for more details and guidance: https://numpy.org/devdocs/release/1.20.0-notes.html#deprecations\n",
      "  paper_features_label = np.genfromtxt(path / 'cora.content', dtype=np.str)\n"
     ]
    },
    {
     "name": "stdout",
     "output_type": "stream",
     "text": [
      "[['31336' '0' '0' ... '0' '0' 'Neural_Networks']\n",
      " ['1061127' '0' '0' ... '0' '0' 'Rule_Learning']\n",
      " ['1106406' '0' '0' ... '0' '0' 'Reinforcement_Learning']\n",
      " ...\n",
      " ['1128978' '0' '0' ... '0' '0' 'Genetic_Algorithms']\n",
      " ['117328' '0' '0' ... '0' '0' 'Case_Based']\n",
      " ['24043' '0' '0' ... '0' '0' 'Neural_Networks']] (2708, 1435)\n",
      "[  31336 1061127 1106406 ... 1128978  117328   24043]\n",
      "(2708, 1433)\n",
      "{'Case_Based': 0, 'Genetic_Algorithms': 1, 'Neural_Networks': 2, 'Probabilistic_Methods': 3, 'Reinforcement_Learning': 4, 'Rule_Learning': 5, 'Theory': 6} [2, 5, 4, 4, 3]\n",
      "[[     35    1033]\n",
      " [     35  103482]\n",
      " [     35  103515]\n",
      " ...\n",
      " [ 853118 1140289]\n",
      " [ 853155  853118]\n",
      " [ 954315 1155073]] (5429, 2)\n",
      "[[ 163  402]\n",
      " [ 163  659]\n",
      " [ 163 1696]\n",
      " ...\n",
      " [1887 2258]\n",
      " [1902 1887]\n",
      " [ 837 1686]] (5429, 2)\n"
     ]
    }
   ],
   "source": [
    "\n",
    "# 输出运算资源请况\n",
    "device = torch.device('cuda') if torch.cuda.is_available() else torch.device('cpu')\n",
    "print(device)\n",
    "\n",
    "# 输出样本路径\n",
    "path = Path('../data/cora')\n",
    "print(path)\n",
    "\n",
    "# 读取论文内容数据，并将其转化为数组\n",
    "paper_features_label = np.genfromtxt(path / 'cora.content', dtype=np.str)\n",
    "print(paper_features_label, np.shape(paper_features_label))\n",
    "\n",
    "# 取出数据的第一列：论文的ID\n",
    "papers = paper_features_label[:, 0].astype(np.int32)\n",
    "print(papers)\n",
    "# 为论文重新编号，{31336: 0, 1061127: 1,……\n",
    "paper2idx = {k: v for v, k in enumerate(papers)}\n",
    "\n",
    "# 将数据中间部分的字标签取出，转化成矩阵\n",
    "features = csr_matrix(paper_features_label[:, 1:-1], dtype=np.float32)\n",
    "print(np.shape(features))\n",
    "\n",
    "# 将最后一项的论文分类属性取出，并转化为分类索引\n",
    "labels = paper_features_label[:, -1]\n",
    "lbl2idx = {k: v for v, k in enumerate(sorted(np.unique(labels)))}\n",
    "labels = [lbl2idx[e] for e in labels]\n",
    "print(lbl2idx, labels[:5])\n",
    "\n",
    "# 读取论文关系数据，并将其转化为数组\n",
    "edges = np.genfromtxt(path / 'cora.cites', dtype=np.int32)\n",
    "print(edges, np.shape(edges))\n",
    "# 转化为新编号节点间的关系\n",
    "edges = np.asarray([paper2idx[e] for e in edges.flatten()], np.int32).reshape(edges.shape)\n",
    "print(edges, edges.shape)\n",
    "\n",
    "# 计算邻接矩阵（Adjacency matrix） ，行列都为论文个数\n",
    "adj = coo_matrix((np.ones(edges.shape[0]), (edges[:, 0], edges[:, 1])),\n",
    "                 shape=(len(labels), len(labels)), dtype=np.float32)\n",
    "\n",
    "# Symmetric adjacency matrix\n",
    "# adj = adj + adj.T.multiply(adj.T > adj) - adj.multiply(adj.T > adj)\n",
    "# 生成无向图对称矩阵\n",
    "adj_long = adj.multiply(adj.T < adj)\n",
    "adj = adj_long + adj_long.T\n",
    "\n",
    "\n",
    "##############################"
   ],
   "metadata": {
    "collapsed": false,
    "pycharm": {
     "name": "#%%\n"
    }
   }
  },
  {
   "cell_type": "code",
   "execution_count": 17,
   "outputs": [],
   "source": [
    "\n",
    "def normalize(mx):  # 定义函数，对矩阵数据进行归一化\n",
    "    '''Row-normalize sparse matrix'''\n",
    "    rowsum = np.array(mx.sum(1))  # 每一篇论文的字数\n",
    "    r_inv = (rowsum ** -1).flatten()  # 取总字数的倒数\n",
    "    r_inv[np.isinf(r_inv)] = 0.  # 将Nan值设为0\n",
    "    r_mat_inv = diags(r_inv)  # 将总字数的倒数做成对角矩阵\n",
    "    mx = r_mat_inv.dot(mx)  # 左乘一个矩阵，相当于每个元素除以总数 随机归一化\n",
    "    return mx\n",
    "\n",
    "\n",
    "\n",
    "\n",
    "def normalize_adj(mx):\n",
    "    \"\"\"Row-normalize sparse matrix\"\"\"\n",
    "    rowsum = np.array(mx.sum(1))\n",
    "    r_inv = np.power(rowsum, -0.5).flatten()\n",
    "    r_inv[np.isinf(r_inv)] = 0.\n",
    "    r_mat_inv = diags(r_inv)\n",
    "    return mx.dot(r_mat_inv).transpose().dot(r_mat_inv) # 对称归一化\n",
    "\n",
    "\n",
    "\n",
    "# 对 features矩阵进行归一化（每行的总和为1）\n",
    "features = normalize(features)\n",
    "\n",
    "# 对邻接矩阵对角线添加1，将其变为自循环图。同时再对其进行归一化\n",
    "# adj = normalize(adj + eye(adj.shape[0]))\n",
    "adj = normalize_adj(adj + eye(adj.shape[0]))\n",
    "################################################\n",
    "\n"
   ],
   "metadata": {
    "collapsed": false,
    "pycharm": {
     "name": "#%%\n"
    }
   }
  },
  {
   "cell_type": "code",
   "execution_count": 18,
   "outputs": [],
   "source": [
    "\n",
    "# Data as tensors\n",
    "adj = torch.FloatTensor(adj.todense())  # 节点间的关系\n",
    "features = torch.FloatTensor(features.todense())  # 节点自身的特征\n",
    "labels = torch.LongTensor(labels)  # 每个节点的分类标签\n",
    "\n",
    "# 划分数据集\n",
    "n_train = 200\n",
    "n_val = 300\n",
    "n_test = len(features) - n_train - n_val\n",
    "np.random.seed(34)\n",
    "idxs = np.random.permutation(len(features))  # 将原有索引打乱顺序\n",
    "# 计算每个数据集的索引\n",
    "idx_train = torch.LongTensor(idxs[:n_train])\n",
    "idx_val = torch.LongTensor(idxs[n_train:n_train + n_val])\n",
    "idx_test = torch.LongTensor(idxs[n_train + n_val:])\n",
    "\n",
    "# 分配运算资源\n",
    "adj = adj.to(device)\n",
    "features = features.to(device)\n",
    "labels = labels.to(device)\n",
    "idx_train = idx_train.to(device)\n",
    "idx_val = idx_val.to(device)\n",
    "idx_test = idx_test.to(device)\n"
   ],
   "metadata": {
    "collapsed": false,
    "pycharm": {
     "name": "#%%\n"
    }
   }
  },
  {
   "cell_type": "code",
   "execution_count": 19,
   "outputs": [],
   "source": [
    "\n",
    "\n",
    "def mish(x):  # Mish激活函数\n",
    "    return x * (torch.tanh(F.softplus(x)))\n",
    "\n",
    "\n",
    "class GraphAttentionLayer(nn.Module):\n",
    "\n",
    "    def __init__(self, in_features, out_features, dropout=0.6):\n",
    "        super(GraphAttentionLayer, self).__init__()\n",
    "        self.dropout = dropout\n",
    "        self.in_features = in_features\n",
    "        self.out_features = out_features\n",
    "        # (in_f, out_f)\n",
    "        self.W = nn.Parameter(torch.zeros(size=(in_features, out_features)))\n",
    "        nn.init.xavier_uniform_(self.W)\n",
    "        # (2*f_out, 1)\n",
    "        self.a = nn.Parameter(torch.zeros(size=(2 * out_features, 1)))\n",
    "        nn.init.xavier_uniform_(self.a)\n",
    "\n",
    "    def forward(self, input, adj):\n",
    "        # n = batch_size\n",
    "        # (n, out_f) = (n, in_f) @ (in_f, out_f)\n",
    "        h = torch.mm(input, self.W)\n",
    "        # N = n\n",
    "        N = h.size()[0]\n",
    "        # 特征维度：h.repeat(1, N).view(N * N, -1)。 (n*1, out_f*N) = (N, out_f*N) --view-> (N*N, out_f)\n",
    "        # 批次维度：h.repeat(N, 1)。 (n*N, out_f*1) = (N*N, out_f)\n",
    "        # (N*N, 2*out_f) --view-> (N, N, 2*out_f)\n",
    "        a_input = torch.cat([h.repeat(1, N).view(N * N, -1), h.repeat(N, 1)], dim=1).view(N, -1, 2 * self.out_features)\n",
    "        # (N, N, 2*out_f) @ (2*f_out, 1) = (N, N, 1) -> [N,N]\n",
    "        e = mish(torch.matmul(a_input, self.a).squeeze(2))\n",
    "\n",
    "        zero_vec = -9e15 * torch.ones_like(e)\n",
    "        attention = torch.where(adj > 0, e, zero_vec)\n",
    "        # print(attention)\n",
    "        attention = F.softmax(attention, dim=1)\n",
    "        attention = F.dropout(attention, self.dropout, training=self.training)\n",
    "        # (n, out_f)\n",
    "        h_prime = torch.matmul(attention, h)\n",
    "        return mish(h_prime)\n",
    "\n",
    "\n",
    "class GAT(nn.Module):\n",
    "    def __init__(self, nfeat, nclass, nhid, dropout, nheads):\n",
    "        super(GAT, self).__init__()\n",
    "\n",
    "        self.attentions = [GraphAttentionLayer(nfeat, nhid, dropout) for _ in range(nheads)]\n",
    "        for i, attention in enumerate(self.attentions):\n",
    "            self.add_module('attention_{}'.format(i), attention)\n",
    "        # for i in range(nheads):\n",
    "        #     self.add_module('attention_{}'.format(i), GraphAttentionLayer(nfeat, nhid, dropout))\n",
    "        self.out_att = GraphAttentionLayer(nhid * nheads, nclass, dropout)\n",
    "\n",
    "    def forward(self, x, adj):\n",
    "        x = torch.cat([att(x, adj) for att in self.attentions], dim=1)\n",
    "        return self.out_att(x, adj)\n",
    "\n",
    "\n",
    "\n",
    "def accuracy(output, y):\n",
    "    return (output.argmax(1) == y).type(torch.float32).mean().item()\n",
    "\n",
    "def step():\n",
    "    \"\"\"\n",
    "        train()\n",
    "    \"\"\"\n",
    "    model.train()\n",
    "    optimizer.zero_grad()\n",
    "    output = model(features, adj)\n",
    "    loss = F.cross_entropy(output[idx_train], labels[idx_train])\n",
    "    acc = accuracy(output[idx_train], labels[idx_train])\n",
    "    loss.backward()\n",
    "    optimizer.step()\n",
    "    return loss.item(), acc\n",
    "\n",
    "\n",
    "def evaluate(idx):\n",
    "    model.eval()\n",
    "    output = model(features, adj)\n",
    "    loss = F.cross_entropy(output[idx], labels[idx]).item()\n",
    "    return loss, accuracy(output[idx], labels[idx])\n",
    "\n"
   ],
   "metadata": {
    "collapsed": false,
    "pycharm": {
     "name": "#%%\n"
    }
   }
  },
  {
   "cell_type": "code",
   "execution_count": 20,
   "outputs": [
    {
     "name": "stdout",
     "output_type": "stream",
     "text": [
      "7 1433\n",
      "Ranger optimizer loaded. \n",
      "Gradient Centralization usage = True\n",
      "GC applied to both conv and fc layers\n"
     ]
    },
    {
     "name": "stderr",
     "output_type": "stream",
     "text": [
      "  0%|          | 1/3000 [00:06<5:45:33,  6.91s/it]"
     ]
    },
    {
     "name": "stdout",
     "output_type": "stream",
     "text": [
      "     1/3000: train_loss=1.9459, train_acc=0.1450, val_loss=1.9455, val_acc=0.2467\n"
     ]
    },
    {
     "name": "stderr",
     "output_type": "stream",
     "text": [
      "  2%|▏         | 50/3000 [02:37<3:11:24,  3.89s/it]"
     ]
    },
    {
     "name": "stdout",
     "output_type": "stream",
     "text": [
      "    50/3000: train_loss=1.9453, train_acc=0.2350, val_loss=1.9450, val_acc=0.2933\n"
     ]
    },
    {
     "name": "stderr",
     "output_type": "stream",
     "text": [
      "  3%|▎         | 100/3000 [05:09<3:05:41,  3.84s/it]"
     ]
    },
    {
     "name": "stdout",
     "output_type": "stream",
     "text": [
      "   100/3000: train_loss=1.9438, train_acc=0.3600, val_loss=1.9438, val_acc=0.4100\n"
     ]
    },
    {
     "name": "stderr",
     "output_type": "stream",
     "text": [
      "  5%|▌         | 150/3000 [07:39<3:03:06,  3.86s/it]"
     ]
    },
    {
     "name": "stdout",
     "output_type": "stream",
     "text": [
      "   150/3000: train_loss=1.9419, train_acc=0.4900, val_loss=1.9422, val_acc=0.4867\n"
     ]
    },
    {
     "name": "stderr",
     "output_type": "stream",
     "text": [
      "  7%|▋         | 200/3000 [10:13<3:08:47,  4.05s/it]"
     ]
    },
    {
     "name": "stdout",
     "output_type": "stream",
     "text": [
      "   200/3000: train_loss=1.9391, train_acc=0.5850, val_loss=1.9400, val_acc=0.5233\n"
     ]
    },
    {
     "name": "stderr",
     "output_type": "stream",
     "text": [
      "  8%|▊         | 250/3000 [12:44<2:57:27,  3.87s/it]"
     ]
    },
    {
     "name": "stdout",
     "output_type": "stream",
     "text": [
      "   250/3000: train_loss=1.9355, train_acc=0.6200, val_loss=1.9370, val_acc=0.5367\n"
     ]
    },
    {
     "name": "stderr",
     "output_type": "stream",
     "text": [
      " 10%|█         | 300/3000 [15:13<2:52:58,  3.84s/it]"
     ]
    },
    {
     "name": "stdout",
     "output_type": "stream",
     "text": [
      "   300/3000: train_loss=1.9315, train_acc=0.6200, val_loss=1.9338, val_acc=0.5500\n"
     ]
    },
    {
     "name": "stderr",
     "output_type": "stream",
     "text": [
      " 12%|█▏        | 350/3000 [17:43<2:49:38,  3.84s/it]"
     ]
    },
    {
     "name": "stdout",
     "output_type": "stream",
     "text": [
      "   350/3000: train_loss=1.9259, train_acc=0.6000, val_loss=1.9292, val_acc=0.5500\n"
     ]
    },
    {
     "name": "stderr",
     "output_type": "stream",
     "text": [
      " 13%|█▎        | 400/3000 [20:12<2:46:15,  3.84s/it]"
     ]
    },
    {
     "name": "stdout",
     "output_type": "stream",
     "text": [
      "   400/3000: train_loss=1.9190, train_acc=0.5900, val_loss=1.9236, val_acc=0.5400\n"
     ]
    },
    {
     "name": "stderr",
     "output_type": "stream",
     "text": [
      " 15%|█▌        | 450/3000 [22:41<2:43:17,  3.84s/it]"
     ]
    },
    {
     "name": "stdout",
     "output_type": "stream",
     "text": [
      "   450/3000: train_loss=1.9116, train_acc=0.5900, val_loss=1.9176, val_acc=0.5400\n"
     ]
    },
    {
     "name": "stderr",
     "output_type": "stream",
     "text": [
      " 17%|█▋        | 500/3000 [25:11<2:42:03,  3.89s/it]"
     ]
    },
    {
     "name": "stdout",
     "output_type": "stream",
     "text": [
      "   500/3000: train_loss=1.9017, train_acc=0.5850, val_loss=1.9094, val_acc=0.5400\n"
     ]
    },
    {
     "name": "stderr",
     "output_type": "stream",
     "text": [
      " 18%|█▊        | 550/3000 [27:43<2:46:32,  4.08s/it]"
     ]
    },
    {
     "name": "stdout",
     "output_type": "stream",
     "text": [
      "   550/3000: train_loss=1.8897, train_acc=0.5800, val_loss=1.8996, val_acc=0.5400\n"
     ]
    },
    {
     "name": "stderr",
     "output_type": "stream",
     "text": [
      " 20%|██        | 600/3000 [30:12<2:33:14,  3.83s/it]"
     ]
    },
    {
     "name": "stdout",
     "output_type": "stream",
     "text": [
      "   600/3000: train_loss=1.8772, train_acc=0.5750, val_loss=1.8893, val_acc=0.5400\n"
     ]
    },
    {
     "name": "stderr",
     "output_type": "stream",
     "text": [
      " 22%|██▏       | 650/3000 [32:41<2:30:30,  3.84s/it]"
     ]
    },
    {
     "name": "stdout",
     "output_type": "stream",
     "text": [
      "   650/3000: train_loss=1.8606, train_acc=0.5750, val_loss=1.8758, val_acc=0.5433\n"
     ]
    },
    {
     "name": "stderr",
     "output_type": "stream",
     "text": [
      " 23%|██▎       | 700/3000 [35:10<2:27:25,  3.85s/it]"
     ]
    },
    {
     "name": "stdout",
     "output_type": "stream",
     "text": [
      "   700/3000: train_loss=1.8413, train_acc=0.5700, val_loss=1.8601, val_acc=0.5433\n"
     ]
    },
    {
     "name": "stderr",
     "output_type": "stream",
     "text": [
      " 25%|██▌       | 750/3000 [37:39<2:23:03,  3.81s/it]"
     ]
    },
    {
     "name": "stdout",
     "output_type": "stream",
     "text": [
      "   750/3000: train_loss=1.8216, train_acc=0.5700, val_loss=1.8442, val_acc=0.5433\n"
     ]
    },
    {
     "name": "stderr",
     "output_type": "stream",
     "text": [
      " 27%|██▋       | 800/3000 [40:10<2:19:58,  3.82s/it]"
     ]
    },
    {
     "name": "stdout",
     "output_type": "stream",
     "text": [
      "   800/3000: train_loss=1.7961, train_acc=0.5800, val_loss=1.8238, val_acc=0.5433\n"
     ]
    },
    {
     "name": "stderr",
     "output_type": "stream",
     "text": [
      " 28%|██▊       | 850/3000 [42:39<2:18:49,  3.87s/it]"
     ]
    },
    {
     "name": "stdout",
     "output_type": "stream",
     "text": [
      "   850/3000: train_loss=1.7671, train_acc=0.5900, val_loss=1.8008, val_acc=0.5467\n"
     ]
    },
    {
     "name": "stderr",
     "output_type": "stream",
     "text": [
      " 30%|███       | 900/3000 [45:09<2:14:31,  3.84s/it]"
     ]
    },
    {
     "name": "stdout",
     "output_type": "stream",
     "text": [
      "   900/3000: train_loss=1.7384, train_acc=0.5950, val_loss=1.7784, val_acc=0.5467\n"
     ]
    },
    {
     "name": "stderr",
     "output_type": "stream",
     "text": [
      " 32%|███▏      | 950/3000 [47:40<2:11:06,  3.84s/it]"
     ]
    },
    {
     "name": "stdout",
     "output_type": "stream",
     "text": [
      "   950/3000: train_loss=1.7023, train_acc=0.6250, val_loss=1.7504, val_acc=0.5467\n"
     ]
    },
    {
     "name": "stderr",
     "output_type": "stream",
     "text": [
      " 33%|███▎      | 1000/3000 [50:11<2:09:53,  3.90s/it]"
     ]
    },
    {
     "name": "stdout",
     "output_type": "stream",
     "text": [
      "  1000/3000: train_loss=1.6624, train_acc=0.6250, val_loss=1.7201, val_acc=0.5533\n"
     ]
    },
    {
     "name": "stderr",
     "output_type": "stream",
     "text": [
      " 35%|███▌      | 1050/3000 [52:43<2:07:10,  3.91s/it]"
     ]
    },
    {
     "name": "stdout",
     "output_type": "stream",
     "text": [
      "  1050/3000: train_loss=1.6239, train_acc=0.6450, val_loss=1.6913, val_acc=0.5700\n"
     ]
    },
    {
     "name": "stderr",
     "output_type": "stream",
     "text": [
      " 37%|███▋      | 1100/3000 [55:15<2:04:35,  3.93s/it]"
     ]
    },
    {
     "name": "stdout",
     "output_type": "stream",
     "text": [
      "  1100/3000: train_loss=1.5773, train_acc=0.6850, val_loss=1.6571, val_acc=0.5900\n"
     ]
    },
    {
     "name": "stderr",
     "output_type": "stream",
     "text": [
      " 38%|███▊      | 1150/3000 [57:45<1:58:44,  3.85s/it]"
     ]
    },
    {
     "name": "stdout",
     "output_type": "stream",
     "text": [
      "  1150/3000: train_loss=1.5277, train_acc=0.7050, val_loss=1.6214, val_acc=0.6233\n"
     ]
    },
    {
     "name": "stderr",
     "output_type": "stream",
     "text": [
      " 40%|████      | 1200/3000 [1:00:14<1:55:28,  3.85s/it]"
     ]
    },
    {
     "name": "stdout",
     "output_type": "stream",
     "text": [
      "  1200/3000: train_loss=1.4819, train_acc=0.7250, val_loss=1.5890, val_acc=0.6300\n"
     ]
    },
    {
     "name": "stderr",
     "output_type": "stream",
     "text": [
      " 42%|████▏     | 1250/3000 [1:02:44<1:51:17,  3.82s/it]"
     ]
    },
    {
     "name": "stdout",
     "output_type": "stream",
     "text": [
      "  1250/3000: train_loss=1.4281, train_acc=0.7500, val_loss=1.5515, val_acc=0.6433\n"
     ]
    },
    {
     "name": "stderr",
     "output_type": "stream",
     "text": [
      " 43%|████▎     | 1300/3000 [1:05:13<1:48:24,  3.83s/it]"
     ]
    },
    {
     "name": "stdout",
     "output_type": "stream",
     "text": [
      "  1300/3000: train_loss=1.3728, train_acc=0.7750, val_loss=1.5132, val_acc=0.6600\n"
     ]
    },
    {
     "name": "stderr",
     "output_type": "stream",
     "text": [
      " 45%|████▌     | 1350/3000 [1:07:45<1:47:32,  3.91s/it]"
     ]
    },
    {
     "name": "stdout",
     "output_type": "stream",
     "text": [
      "  1350/3000: train_loss=1.3231, train_acc=0.7950, val_loss=1.4790, val_acc=0.6733\n"
     ]
    },
    {
     "name": "stderr",
     "output_type": "stream",
     "text": [
      " 47%|████▋     | 1400/3000 [1:10:14<1:42:45,  3.85s/it]"
     ]
    },
    {
     "name": "stdout",
     "output_type": "stream",
     "text": [
      "  1400/3000: train_loss=1.2662, train_acc=0.8100, val_loss=1.4400, val_acc=0.6867\n"
     ]
    },
    {
     "name": "stderr",
     "output_type": "stream",
     "text": [
      " 48%|████▊     | 1450/3000 [1:12:43<1:39:12,  3.84s/it]"
     ]
    },
    {
     "name": "stdout",
     "output_type": "stream",
     "text": [
      "  1450/3000: train_loss=1.2090, train_acc=0.8250, val_loss=1.4012, val_acc=0.7033\n"
     ]
    },
    {
     "name": "stderr",
     "output_type": "stream",
     "text": [
      " 50%|█████     | 1500/3000 [1:15:14<1:35:21,  3.81s/it]"
     ]
    },
    {
     "name": "stdout",
     "output_type": "stream",
     "text": [
      "  1500/3000: train_loss=1.1584, train_acc=0.8350, val_loss=1.3670, val_acc=0.7000\n"
     ]
    },
    {
     "name": "stderr",
     "output_type": "stream",
     "text": [
      " 52%|█████▏    | 1550/3000 [1:17:44<1:33:10,  3.86s/it]"
     ]
    },
    {
     "name": "stdout",
     "output_type": "stream",
     "text": [
      "  1550/3000: train_loss=1.1019, train_acc=0.8400, val_loss=1.3282, val_acc=0.7233\n"
     ]
    },
    {
     "name": "stderr",
     "output_type": "stream",
     "text": [
      " 53%|█████▎    | 1600/3000 [1:20:13<1:29:46,  3.85s/it]"
     ]
    },
    {
     "name": "stdout",
     "output_type": "stream",
     "text": [
      "  1600/3000: train_loss=1.0460, train_acc=0.8600, val_loss=1.2897, val_acc=0.7433\n"
     ]
    },
    {
     "name": "stderr",
     "output_type": "stream",
     "text": [
      " 55%|█████▌    | 1650/3000 [1:22:43<1:26:14,  3.83s/it]"
     ]
    },
    {
     "name": "stdout",
     "output_type": "stream",
     "text": [
      "  1650/3000: train_loss=0.9974, train_acc=0.8750, val_loss=1.2560, val_acc=0.7567\n"
     ]
    },
    {
     "name": "stderr",
     "output_type": "stream",
     "text": [
      " 57%|█████▋    | 1700/3000 [1:25:14<1:24:34,  3.90s/it]"
     ]
    },
    {
     "name": "stdout",
     "output_type": "stream",
     "text": [
      "  1700/3000: train_loss=0.9438, train_acc=0.9000, val_loss=1.2186, val_acc=0.7567\n"
     ]
    },
    {
     "name": "stderr",
     "output_type": "stream",
     "text": [
      " 58%|█████▊    | 1750/3000 [1:27:45<1:21:33,  3.91s/it]"
     ]
    },
    {
     "name": "stdout",
     "output_type": "stream",
     "text": [
      "  1750/3000: train_loss=0.8918, train_acc=0.9100, val_loss=1.1818, val_acc=0.7733\n"
     ]
    },
    {
     "name": "stderr",
     "output_type": "stream",
     "text": [
      " 60%|██████    | 1800/3000 [1:30:15<1:16:16,  3.81s/it]"
     ]
    },
    {
     "name": "stdout",
     "output_type": "stream",
     "text": [
      "  1800/3000: train_loss=0.8472, train_acc=0.9300, val_loss=1.1501, val_acc=0.7867\n"
     ]
    },
    {
     "name": "stderr",
     "output_type": "stream",
     "text": [
      " 62%|██████▏   | 1850/3000 [1:32:45<1:13:43,  3.85s/it]"
     ]
    },
    {
     "name": "stdout",
     "output_type": "stream",
     "text": [
      "  1850/3000: train_loss=0.7988, train_acc=0.9400, val_loss=1.1152, val_acc=0.7933\n"
     ]
    },
    {
     "name": "stderr",
     "output_type": "stream",
     "text": [
      " 63%|██████▎   | 1900/3000 [1:35:14<1:10:13,  3.83s/it]"
     ]
    },
    {
     "name": "stdout",
     "output_type": "stream",
     "text": [
      "  1900/3000: train_loss=0.7525, train_acc=0.9400, val_loss=1.0817, val_acc=0.8033\n"
     ]
    },
    {
     "name": "stderr",
     "output_type": "stream",
     "text": [
      " 65%|██████▌   | 1950/3000 [1:37:43<1:07:15,  3.84s/it]"
     ]
    },
    {
     "name": "stdout",
     "output_type": "stream",
     "text": [
      "  1950/3000: train_loss=0.7136, train_acc=0.9450, val_loss=1.0535, val_acc=0.8167\n"
     ]
    },
    {
     "name": "stderr",
     "output_type": "stream",
     "text": [
      " 67%|██████▋   | 2000/3000 [1:40:12<1:03:49,  3.83s/it]"
     ]
    },
    {
     "name": "stdout",
     "output_type": "stream",
     "text": [
      "  2000/3000: train_loss=0.6716, train_acc=0.9450, val_loss=1.0230, val_acc=0.8133\n"
     ]
    },
    {
     "name": "stderr",
     "output_type": "stream",
     "text": [
      " 68%|██████▊   | 2050/3000 [1:42:41<1:00:37,  3.83s/it]"
     ]
    },
    {
     "name": "stdout",
     "output_type": "stream",
     "text": [
      "  2050/3000: train_loss=0.6317, train_acc=0.9500, val_loss=0.9944, val_acc=0.8167\n"
     ]
    },
    {
     "name": "stderr",
     "output_type": "stream",
     "text": [
      " 70%|███████   | 2100/3000 [1:45:11<57:32,  3.84s/it]  "
     ]
    },
    {
     "name": "stdout",
     "output_type": "stream",
     "text": [
      "  2100/3000: train_loss=0.5983, train_acc=0.9500, val_loss=0.9703, val_acc=0.8167\n"
     ]
    },
    {
     "name": "stderr",
     "output_type": "stream",
     "text": [
      " 72%|███████▏  | 2150/3000 [1:47:40<54:30,  3.85s/it]"
     ]
    },
    {
     "name": "stdout",
     "output_type": "stream",
     "text": [
      "  2150/3000: train_loss=0.5626, train_acc=0.9500, val_loss=0.9442, val_acc=0.8167\n"
     ]
    },
    {
     "name": "stderr",
     "output_type": "stream",
     "text": [
      " 73%|███████▎  | 2200/3000 [1:50:10<51:10,  3.84s/it]"
     ]
    },
    {
     "name": "stdout",
     "output_type": "stream",
     "text": [
      "  2200/3000: train_loss=0.5289, train_acc=0.9500, val_loss=0.9198, val_acc=0.8200\n"
     ]
    },
    {
     "name": "stderr",
     "output_type": "stream",
     "text": [
      " 75%|███████▌  | 2250/3000 [1:52:42<48:07,  3.85s/it]"
     ]
    },
    {
     "name": "stdout",
     "output_type": "stream",
     "text": [
      "  2250/3000: train_loss=0.5008, train_acc=0.9550, val_loss=0.8996, val_acc=0.8167\n"
     ]
    },
    {
     "name": "stderr",
     "output_type": "stream",
     "text": [
      " 77%|███████▋  | 2300/3000 [1:55:12<45:30,  3.90s/it]"
     ]
    },
    {
     "name": "stdout",
     "output_type": "stream",
     "text": [
      "  2300/3000: train_loss=0.4708, train_acc=0.9550, val_loss=0.8781, val_acc=0.8167\n"
     ]
    },
    {
     "name": "stderr",
     "output_type": "stream",
     "text": [
      " 78%|███████▊  | 2350/3000 [1:57:43<41:37,  3.84s/it]"
     ]
    },
    {
     "name": "stdout",
     "output_type": "stream",
     "text": [
      "  2350/3000: train_loss=0.4426, train_acc=0.9600, val_loss=0.8581, val_acc=0.8167\n"
     ]
    },
    {
     "name": "stderr",
     "output_type": "stream",
     "text": [
      " 80%|████████  | 2400/3000 [2:00:13<38:56,  3.89s/it]"
     ]
    },
    {
     "name": "stdout",
     "output_type": "stream",
     "text": [
      "  2400/3000: train_loss=0.4192, train_acc=0.9700, val_loss=0.8412, val_acc=0.8200\n"
     ]
    },
    {
     "name": "stderr",
     "output_type": "stream",
     "text": [
      " 82%|████████▏ | 2450/3000 [2:02:43<35:03,  3.82s/it]"
     ]
    },
    {
     "name": "stdout",
     "output_type": "stream",
     "text": [
      "  2450/3000: train_loss=0.3942, train_acc=0.9750, val_loss=0.8237, val_acc=0.8200\n"
     ]
    },
    {
     "name": "stderr",
     "output_type": "stream",
     "text": [
      " 83%|████████▎ | 2500/3000 [2:05:11<32:00,  3.84s/it]"
     ]
    },
    {
     "name": "stdout",
     "output_type": "stream",
     "text": [
      "  2500/3000: train_loss=0.3708, train_acc=0.9750, val_loss=0.8071, val_acc=0.8167\n"
     ]
    },
    {
     "name": "stderr",
     "output_type": "stream",
     "text": [
      " 85%|████████▌ | 2550/3000 [2:07:40<28:32,  3.81s/it]"
     ]
    },
    {
     "name": "stdout",
     "output_type": "stream",
     "text": [
      "  2550/3000: train_loss=0.3514, train_acc=0.9750, val_loss=0.7936, val_acc=0.8167\n"
     ]
    },
    {
     "name": "stderr",
     "output_type": "stream",
     "text": [
      " 87%|████████▋ | 2600/3000 [2:10:08<25:29,  3.82s/it]"
     ]
    },
    {
     "name": "stdout",
     "output_type": "stream",
     "text": [
      "  2600/3000: train_loss=0.3307, train_acc=0.9750, val_loss=0.7789, val_acc=0.8167\n"
     ]
    },
    {
     "name": "stderr",
     "output_type": "stream",
     "text": [
      " 88%|████████▊ | 2650/3000 [2:12:37<22:21,  3.83s/it]"
     ]
    },
    {
     "name": "stdout",
     "output_type": "stream",
     "text": [
      "  2650/3000: train_loss=0.3112, train_acc=0.9750, val_loss=0.7654, val_acc=0.8167\n"
     ]
    },
    {
     "name": "stderr",
     "output_type": "stream",
     "text": [
      " 90%|█████████ | 2700/3000 [2:15:05<19:01,  3.81s/it]"
     ]
    },
    {
     "name": "stdout",
     "output_type": "stream",
     "text": [
      "  2700/3000: train_loss=0.2952, train_acc=0.9800, val_loss=0.7546, val_acc=0.8167\n"
     ]
    },
    {
     "name": "stderr",
     "output_type": "stream",
     "text": [
      " 92%|█████████▏| 2750/3000 [2:17:34<16:07,  3.87s/it]"
     ]
    },
    {
     "name": "stdout",
     "output_type": "stream",
     "text": [
      "  2750/3000: train_loss=0.2781, train_acc=0.9800, val_loss=0.7433, val_acc=0.8200\n"
     ]
    },
    {
     "name": "stderr",
     "output_type": "stream",
     "text": [
      " 93%|█████████▎| 2800/3000 [2:20:03<12:45,  3.83s/it]"
     ]
    },
    {
     "name": "stdout",
     "output_type": "stream",
     "text": [
      "  2800/3000: train_loss=0.2620, train_acc=0.9850, val_loss=0.7329, val_acc=0.8200\n"
     ]
    },
    {
     "name": "stderr",
     "output_type": "stream",
     "text": [
      " 95%|█████████▌| 2850/3000 [2:22:33<09:34,  3.83s/it]"
     ]
    },
    {
     "name": "stdout",
     "output_type": "stream",
     "text": [
      "  2850/3000: train_loss=0.2488, train_acc=0.9850, val_loss=0.7242, val_acc=0.8167\n"
     ]
    },
    {
     "name": "stderr",
     "output_type": "stream",
     "text": [
      " 97%|█████████▋| 2900/3000 [2:25:04<06:32,  3.93s/it]"
     ]
    },
    {
     "name": "stdout",
     "output_type": "stream",
     "text": [
      "  2900/3000: train_loss=0.2347, train_acc=0.9850, val_loss=0.7146, val_acc=0.8133\n"
     ]
    },
    {
     "name": "stderr",
     "output_type": "stream",
     "text": [
      " 98%|█████████▊| 2950/3000 [2:27:33<03:12,  3.84s/it]"
     ]
    },
    {
     "name": "stdout",
     "output_type": "stream",
     "text": [
      "  2950/3000: train_loss=0.2216, train_acc=0.9850, val_loss=0.7064, val_acc=0.8133\n"
     ]
    },
    {
     "name": "stderr",
     "output_type": "stream",
     "text": [
      "100%|██████████| 3000/3000 [2:30:01<00:00,  3.00s/it]"
     ]
    },
    {
     "name": "stdout",
     "output_type": "stream",
     "text": [
      "  3000/3000: train_loss=0.2106, train_acc=0.9850, val_loss=0.6995, val_acc=0.8100\n"
     ]
    },
    {
     "name": "stderr",
     "output_type": "stream",
     "text": [
      "\n"
     ]
    },
    {
     "name": "stdout",
     "output_type": "stream",
     "text": [
      "Train     : loss=0.2106, accuracy=0.9850\n",
      "Validation: loss=0.6995, accuracy=0.8100\n",
      "Test      : loss=0.7801, accuracy=0.7908\n"
     ]
    },
    {
     "data": {
      "text/plain": "<Figure size 1500x500 with 2 Axes>",
      "image/png": "[encoded data removed]"
     },
     "metadata": {},
     "output_type": "display_data"
    }
   ],
   "source": [
    "\n",
    "n_labels = labels.max().item() + 1  # 分类个数 7\n",
    "n_features = features.shape[1]  # 节点个数 1433\n",
    "print(n_labels, n_features)\n",
    "\n",
    "# model = GAT(n_features, n_labels, 16, 0.1, 8).to(device)\n",
    "model = GAT(n_features, n_labels, 8, 0.1, 2).to(device)\n",
    "\n",
    "\n",
    "optimizer = Ranger(model.parameters())\n",
    "\n",
    "# 训练模型\n",
    "epochs = 3000\n",
    "\n",
    "print_steps = 50\n",
    "train_loss, train_acc = [], []\n",
    "val_loss, val_acc = [], []\n",
    "for i in tqdm(range(epochs)):\n",
    "    tl, ta = step()\n",
    "    train_loss += [tl]\n",
    "    train_acc += [ta]\n",
    "    if (i + 1) % print_steps == 0 or i == 0:\n",
    "        tl, ta = evaluate(idx_train)\n",
    "        vl, va = evaluate(idx_val)\n",
    "        val_loss += [vl]\n",
    "        val_acc += [va]\n",
    "        print(f'{i + 1:6d}/{epochs}: train_loss={tl:.4f}, train_acc={ta:.4f}' +\n",
    "              f', val_loss={vl:.4f}, val_acc={va:.4f}')\n",
    "\n",
    "# 输出最终结果\n",
    "final_train, final_val, final_test = evaluate(idx_train), evaluate(idx_val), evaluate(idx_test)\n",
    "print(f'Train     : loss={final_train[0]:.4f}, accuracy={final_train[1]:.4f}')\n",
    "print(f'Validation: loss={final_val[0]:.4f}, accuracy={final_val[1]:.4f}')\n",
    "print(f'Test      : loss={final_test[0]:.4f}, accuracy={final_test[1]:.4f}')\n",
    "\n",
    "# 可视化训练过程\n",
    "fig, axes = plt.subplots(1, 2, figsize=(15, 5))\n",
    "ax = axes[0]\n",
    "axes[0].plot(train_loss[::print_steps] + [train_loss[-1]], label='Train')\n",
    "axes[0].plot(val_loss, label='Validation')\n",
    "axes[1].plot(train_acc[::print_steps] + [train_acc[-1]], label='Train')\n",
    "axes[1].plot(val_acc, label='Validation')\n",
    "for ax, t in zip(axes, ['Loss', 'Accuracy']): ax.legend(), ax.set_title(t, size=15)\n"
   ],
   "metadata": {
    "collapsed": false,
    "pycharm": {
     "name": "#%%\n"
    }
   }
  },
  {
   "cell_type": "code",
   "execution_count": 21,
   "outputs": [
    {
     "name": "stdout",
     "output_type": "stream",
     "text": [
      "                     Real                    Pred\n",
      "0   Probabilistic_Methods                  Theory\n",
      "1              Case_Based              Case_Based\n",
      "2  Reinforcement_Learning  Reinforcement_Learning\n",
      "3                  Theory                  Theory\n",
      "4      Genetic_Algorithms      Genetic_Algorithms\n",
      "5                  Theory                  Theory\n",
      "6      Genetic_Algorithms      Genetic_Algorithms\n",
      "7         Neural_Networks         Neural_Networks\n",
      "8              Case_Based              Case_Based\n",
      "9  Reinforcement_Learning  Reinforcement_Learning\n"
     ]
    }
   ],
   "source": [
    "\n",
    "# 输出模型预测结果\n",
    "output = model(features, adj)\n",
    "\n",
    "samples = 10\n",
    "idx_sample = idx_test[torch.randperm(len(idx_test))[:samples]]\n",
    "\n",
    "idx2lbl = {v: k for k, v in lbl2idx.items()}\n",
    "df = pd.DataFrame({'Real': [idx2lbl[e] for e in labels[idx_sample].tolist()],\n",
    "                   'Pred': [idx2lbl[e] for e in output[idx_sample].argmax(1).tolist()]})\n",
    "print(df)\n"
   ],
   "metadata": {
    "collapsed": false,
    "pycharm": {
     "name": "#%%\n"
    }
   }
  }
 ],
 "metadata": {
  "kernelspec": {
   "display_name": "Python 3",
   "language": "python",
   "name": "python3"
  },
  "language_info": {
   "codemirror_mode": {
    "name": "ipython",
    "version": 2
   },
   "file_extension": ".py",
   "mimetype": "text/x-python",
   "name": "python",
   "nbconvert_exporter": "python",
   "pygments_lexer": "ipython2",
   "version": "2.7.6"
  }
 },
 "nbformat": 4,
 "nbformat_minor": 0
}